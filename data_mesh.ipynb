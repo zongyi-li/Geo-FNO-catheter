{
 "cells": [
  {
   "cell_type": "code",
   "execution_count": 2,
   "metadata": {},
   "outputs": [],
   "source": [
    "import numpy as np\n",
    "import glob\n",
    "import re\n",
    "import matplotlib.pyplot as plt\n",
    "from scipy.io import loadmat\n",
    "import os.path\n",
    "import matplotlib.pyplot as plt\n",
    "from catheter import numpy_catheter_mesh_2d , numpy_catheter_mesh_1d\n"
   ]
  },
  {
   "cell_type": "code",
   "execution_count": 3,
   "metadata": {},
   "outputs": [],
   "source": [
    "def lineseg_dists(p, a, b):\n",
    "    \"\"\"Cartesian distance from point to line segment\n",
    "\n",
    "    Edited to support arguments as series, from:\n",
    "    https://stackoverflow.com/a/54442561/11208892\n",
    "\n",
    "    Args:\n",
    "        - p: np.array of single point, shape (2,) or 2D array, shape (x, 2)\n",
    "        - a: np.array of shape (x, 2)\n",
    "        - b: np.array of shape (x, 2)\n",
    "    \"\"\"\n",
    "    # normalized tangent vectors\n",
    "    d_ba = b - a\n",
    "    d = np.divide(d_ba, (np.hypot(d_ba[:, 0], d_ba[:, 1])\n",
    "                           .reshape(-1, 1)))\n",
    "\n",
    "    # signed parallel distance components\n",
    "    # rowwise dot products of 2D vectors\n",
    "    s = np.multiply(a - p, d).sum(axis=1)\n",
    "    t = np.multiply(p - b, d).sum(axis=1)\n",
    "\n",
    "    # clamped parallel distance\n",
    "    h = np.maximum.reduce([s, t, np.zeros(len(s))])\n",
    "\n",
    "    # perpendicular distance component\n",
    "    # rowwise cross products of 2D vectors  \n",
    "    d_pa = p - a\n",
    "    c = d_pa[:, 0] * d[:, 1] - d_pa[:, 1] * d[:, 0]\n",
    "\n",
    "    return np.hypot(h, c)\n",
    "\n",
    "def lineseg_dist(p, a, b): \n",
    "    n_p = p.shape[0] \n",
    "    n_s = a.shape[0]\n",
    "\n",
    "    p_s = np.tile(p, (n_s,1))\n",
    "    a_s = np.tile(a, (1,n_p)).reshape((-1,2))\n",
    "    b_s = np.tile(b, (1,n_p)).reshape((-1,2))\n",
    "    \n",
    "    dists = lineseg_dists(p_s, a_s, b_s)\n",
    "    dists = dists.reshape((-1, n_p)).reshape((-1, n_p))\n",
    "    dists = np.min(dists, axis=0)\n",
    "    \n",
    "    return dists\n"
   ]
  },
  {
   "cell_type": "markdown",
   "metadata": {},
   "source": [
    "# Generate 1D surface mesh for $x_2$, $x_3$, $h$\n",
    "\n",
    "\n",
    "Let define $h_c = 20$ and $x_1 = 40$\n",
    "\n",
    "1. Initial mesh is from $(\\frac{x_1 + x_3}{2}, x_3, h)$\n",
    "\n",
    "\n",
    "2. Deform the mesh from $(\\frac{x_1 + x_3}{2}, x_3, h)$ to $(x_2, x_3, h)$\n",
    "    $$(x, y) \\rightarrow (x + \\Delta x, y)$$\n",
    "    \n",
    "* For the points $x \\in [x_1, \\frac{x_1 + x_3}{2}] \\qquad y \\in [0, h]$ \n",
    "    \n",
    "    $$ \\Delta x_{max} = x_2 - \\frac{x_1 + x_3}{2} \\qquad \\Delta x = \\frac{x - 0}{\\frac{x_1  + x_3}{2}\\frac{y}{h} + (1 - \\frac{y}{h})x_1}  \\frac{y}{h} \\Delta x_{max} $$\n",
    "       \n",
    "\n",
    "* For the points $x \\in [\\frac{x_1 + x_3}{2}, x_3] \\qquad y \\in [0, h]$ \n",
    "    \n",
    "    $$ \\Delta x_{max} = x_2 - \\frac{x_1 + x_3}{2} \\qquad \\Delta x = \\frac{L_x - x}{(L_x - \\frac{x_1  + x_3}{2})\\frac{y}{h} + (1 - \\frac{y}{h})(L_x - x_3)}  \\frac{y}{h} \\Delta x_{max} $$\n",
    "       \n",
    "    \n",
    "Overall, the formula can be written as \n",
    "\n",
    "$$ \\Delta x_{max} = x_2 - \\frac{x_1 + x_3}{2} \\qquad \\Delta x = \\frac{dx}{(dx_1)dy + (h - dy)(dx_2)}  dy \\Delta x_{max} $$\n",
    "        \n",
    "```\n",
    "for x2 in range(41,60,2):\n",
    "    for x3 in range(41,60,2):\n",
    "        for h in np.arange(2,6.6,0.5):\n",
    "```"
   ]
  },
  {
   "cell_type": "code",
   "execution_count": 6,
   "metadata": {},
   "outputs": [
    {
     "data": {
      "text/plain": [
       "[<matplotlib.lines.Line2D at 0x7feadf5cf990>]"
      ]
     },
     "execution_count": 6,
     "metadata": {},
     "output_type": "execute_result"
    },
    {
     "data": {
      "image/png": "[encoded data removed]",
      "text/plain": [
       "<Figure size 432x288 with 1 Axes>"
      ]
     },
     "metadata": {
      "needs_background": "light"
     },
     "output_type": "display_data"
    }
   ],
   "source": [
    "from catheter import numpy_catheter_mesh_1d\n",
    "\n",
    "x1, x2, x3, h = 40, 10, 50, 5\n",
    "ncy = 20\n",
    "ncx1, ncx2, ncx3, ncx4 = 20, 10, 10, 20\n",
    "ncx = ncx1 + ncx2 + ncx3 + ncx4\n",
    "\n",
    "n_periods = 4\n",
    "x_mesh, y_mesh = np.zeros(n_periods*ncx+1), np.zeros(n_periods*ncx+1)\n",
    "\n",
    "x2, x3, h = 41, 43, 2             \n",
    "X, Y = numpy_catheter_mesh_1d(x2, x3, h, ncx1, ncx2, ncx3, ncx4, plot_or_not = False)\n",
    "\n",
    "x_mesh[-(ncx + 1):], y_mesh[-(ncx + 1):] = X, Y    \n",
    "for i_period in range(1,n_periods):\n",
    "    x_mesh[-((i_period + 1)*ncx + 1):-(i_period*ncx)], y_mesh[-((i_period + 1)*ncx + 1):-(i_period*ncx)] = X - 100*i_period, Y\n",
    "\n",
    "plt.figure()\n",
    "plt.plot(x_mesh, y_mesh, \"-or\", fillstyle=\"none\")"
   ]
  },
  {
   "cell_type": "code",
   "execution_count": 8,
   "metadata": {},
   "outputs": [],
   "source": [
    "ncx1, ncx2, ncx3, ncx4 = 50, 50, 50, 50\n",
    "ncx = ncx1 + ncx2 + ncx3 + ncx4\n",
    "n_periods = 4\n",
    "\n",
    "ndata = len(range(41,60,2))*len(range(41,60,2))*len(np.arange(2,6.6,0.5))\n",
    "x_mesh, y_mesh = np.zeros((n_periods*ncx+1, ndata)), np.zeros((n_periods*ncx+1, ndata))\n",
    "\n",
    "pref_folder = \"/groups/esm/dzhuang/Catheter/\"\n",
    "ind = 0\n",
    "for x2 in range(41,60,2):\n",
    "    for x3 in range(41,60,2):\n",
    "        for h in np.arange(2,6.6,0.5):\n",
    "            \n",
    "            \n",
    "            X, Y = numpy_catheter_mesh_1d(x2, x3, h, ncx1, ncx2, ncx3, ncx4, plot_or_not = False)\n",
    "            \n",
    "            x_mesh[-(ncx + 1):, ind], y_mesh[-(ncx + 1):, ind] = X, Y    \n",
    "            for i_period in range(1,n_periods):\n",
    "                x_mesh[-((i_period + 1)*ncx + 1):-(i_period*ncx), ind], y_mesh[-((i_period + 1)*ncx + 1):-(i_period*ncx), ind] = X - 100*i_period, Y\n",
    "                \n",
    "            ind += 1\n",
    "            \n",
    "np.save(pref_folder+\"x_1d_structured_mesh.npy\",   x_mesh)\n",
    "np.save(pref_folder+\"y_1d_structured_mesh.npy\",   y_mesh)\n"
   ]
  },
  {
   "cell_type": "code",
   "execution_count": null,
   "metadata": {},
   "outputs": [],
   "source": []
  }
 ],
 "metadata": {
  "kernelspec": {
   "display_name": "Python (qg)",
   "language": "python",
   "name": "qg"
  },
  "language_info": {
   "codemirror_mode": {
    "name": "ipython",
    "version": 3
   },
   "file_extension": ".py",
   "mimetype": "text/x-python",
   "name": "python",
   "nbconvert_exporter": "python",
   "pygments_lexer": "ipython3",
   "version": "3.7.11"
  }
 },
 "nbformat": 4,
 "nbformat_minor": 4
}
